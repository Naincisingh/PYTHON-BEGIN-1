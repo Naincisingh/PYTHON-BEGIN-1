{
 "cells": [
  {
   "cell_type": "code",
   "execution_count": 1,
   "id": "f9ad12f4-b380-4124-ad65-736a75e3e7b6",
   "metadata": {},
   "outputs": [
    {
     "data": {
      "text/plain": [
       "'Guido van Rossum developed the python programming language  '"
      ]
     },
     "execution_count": 1,
     "metadata": {},
     "output_type": "execute_result"
    }
   ],
   "source": [
    "\"\"\"QTS.1\"\"\"\n",
    "\"\"\"Guido van Rossum developed the python programming language  \"\"\""
   ]
  },
  {
   "cell_type": "code",
   "execution_count": 2,
   "id": "c8cb4aec-be00-48bc-971d-977d988215ff",
   "metadata": {},
   "outputs": [
    {
     "data": {
      "text/plain": [
       "'python supports imperative,functional,procedural,object-oriented programming '"
      ]
     },
     "execution_count": 2,
     "metadata": {},
     "output_type": "execute_result"
    }
   ],
   "source": [
    "\"\"\"QTS. 2\"\"\"\n",
    "\"\"\"python supports imperative,functional,procedural,object-oriented programming \"\"\""
   ]
  },
  {
   "cell_type": "code",
   "execution_count": 3,
   "id": "cb2771a1-ae22-4957-8e9d-db969c2a23ce",
   "metadata": {},
   "outputs": [
    {
     "data": {
      "text/plain": [
       "'YES, Python is a case sensitive programming language'"
      ]
     },
     "execution_count": 3,
     "metadata": {},
     "output_type": "execute_result"
    }
   ],
   "source": [
    "\"\"\"QTS. 3 \"\"\"\n",
    "\"\"\"YES, Python is a case sensitive programming language\"\"\""
   ]
  },
  {
   "cell_type": "code",
   "execution_count": 4,
   "id": "bb02e41a-1ef5-47ab-b0d6-52613c7d408c",
   "metadata": {},
   "outputs": [
    {
     "data": {
      "text/plain": [
       "' .py  is the correct extension of the python file '"
      ]
     },
     "execution_count": 4,
     "metadata": {},
     "output_type": "execute_result"
    }
   ],
   "source": [
    "\"\"\"QTS. 4\"\"\"\n",
    "\"\"\" .py  is the correct extension of the python file \"\"\""
   ]
  },
  {
   "cell_type": "code",
   "execution_count": 6,
   "id": "e64b26d5-d459-4769-9415-78bec1ee125b",
   "metadata": {},
   "outputs": [
    {
     "data": {
      "text/plain": [
       "'python is a interpreted language which means the source code\\nof a python program is converted into bytecode than is then \\nexecueted by python virtual machine'"
      ]
     },
     "execution_count": 6,
     "metadata": {},
     "output_type": "execute_result"
    }
   ],
   "source": [
    "\"\"\"QTS. 5\"\"\"\n",
    "\"\"\"python is a interpreted language which means the source code\n",
    "of a python program is converted into bytecode than is then \n",
    "execueted by python virtual machine\"\"\""
   ]
  },
  {
   "cell_type": "code",
   "execution_count": 8,
   "id": "d4f3fd90-859d-408f-92fe-abea61512fe6",
   "metadata": {},
   "outputs": [
    {
     "data": {
      "text/plain": [
       "'a module, a function body and a class definition \\nare some of the block of code used to define in python language'"
      ]
     },
     "execution_count": 8,
     "metadata": {},
     "output_type": "execute_result"
    }
   ],
   "source": [
    "\"\"\"QTS. 6\"\"\"\n",
    "\"\"\"a module, a function body and a class definition \n",
    "are some of the block of code used to define in python language\"\"\""
   ]
  },
  {
   "cell_type": "code",
   "execution_count": 9,
   "id": "fc9c3d8d-0d61-4f09-a78a-2c819caa8a50",
   "metadata": {},
   "outputs": [
    {
     "data": {
      "text/plain": [
       "'hash symbol #, is used in python to define single line coomments '"
      ]
     },
     "execution_count": 9,
     "metadata": {},
     "output_type": "execute_result"
    }
   ],
   "source": [
    "\"\"\"QTS. 7\"\"\"\n",
    "\"\"\"hash symbol #, is used in python to define single line coomments \"\"\""
   ]
  },
  {
   "cell_type": "code",
   "execution_count": 10,
   "id": "44e75a10-4988-47d7-a5a6-2eebb8e2bc5c",
   "metadata": {},
   "outputs": [
    {
     "data": {
      "text/plain": [
       "'the funtion sys.version helps in finding the version of python currently working on'"
      ]
     },
     "execution_count": 10,
     "metadata": {},
     "output_type": "execute_result"
    }
   ],
   "source": [
    "\"\"\"QTS. 8\"\"\"\n",
    "\"\"\"the funtion sys.version helps in finding the version of python currently working on\"\"\""
   ]
  },
  {
   "cell_type": "code",
   "execution_count": 13,
   "id": "f768faa9-043f-4f2a-a673-0b2774748681",
   "metadata": {},
   "outputs": [
    {
     "data": {
      "text/plain": [
       "'lamba is a constructor which supports creation of anonymous functions at runtime in python '"
      ]
     },
     "execution_count": 13,
     "metadata": {},
     "output_type": "execute_result"
    }
   ],
   "source": [
    "\"\"\"QTS. 9\"\"\"\n",
    "\"\"\"lamba is a constructor which supports creation of anonymous functions at runtime in python \"\"\""
   ]
  },
  {
   "cell_type": "code",
   "execution_count": 14,
   "id": "1ef30e6e-f110-4c29-906d-cea023827194",
   "metadata": {},
   "outputs": [
    {
     "data": {
      "text/plain": [
       "\"PIP is a recursive acronym for 'preferred installer program'or it installs packages in python \""
      ]
     },
     "execution_count": 14,
     "metadata": {},
     "output_type": "execute_result"
    }
   ],
   "source": [
    "\"\"\"QTS.10\"\"\"\n",
    "\"\"\"PIP is a recursive acronym for 'preferred installer program'or it installs packages in python \"\"\""
   ]
  },
  {
   "cell_type": "code",
   "execution_count": 15,
   "id": "41e14645-1fcd-4d17-ae29-f9bb8cba43ff",
   "metadata": {},
   "outputs": [
    {
     "data": {
      "text/plain": [
       "'few built in function in python\\n1.len(),\\n2.list()\\n3.str() etc.'"
      ]
     },
     "execution_count": 15,
     "metadata": {},
     "output_type": "execute_result"
    }
   ],
   "source": [
    "\"\"\"QTS.11 \"\"\"\n",
    "\"\"\"few built in function in python\n",
    "1.len(),\n",
    "2.list()\n",
    "3.str() etc.\"\"\""
   ]
  },
  {
   "cell_type": "code",
   "execution_count": 16,
   "id": "2930edf1-1df2-4120-b276-eadcae636522",
   "metadata": {},
   "outputs": [
    {
     "data": {
      "text/plain": [
       "'a maximum of 79 character can be used in python when writing a code using identifier'"
      ]
     },
     "execution_count": 16,
     "metadata": {},
     "output_type": "execute_result"
    }
   ],
   "source": [
    "\"\"\"QTS.12\"\"\"\n",
    "\"\"\"a maximum of 79 character can be used in python when writing a code using identifier\"\"\""
   ]
  },
  {
   "cell_type": "code",
   "execution_count": 17,
   "id": "8bc768a5-07fc-4537-be9a-00af01b87085",
   "metadata": {},
   "outputs": [
    {
     "data": {
      "text/plain": [
       "'benefits of using python\\n1.easy to learn\\n2.flexibility\\n3.easy to use  etc.'"
      ]
     },
     "execution_count": 17,
     "metadata": {},
     "output_type": "execute_result"
    }
   ],
   "source": [
    "\"\"\"QTS.13\"\"\"\n",
    "\"\"\"benefits of using python\n",
    "1.easy to learn\n",
    "2.flexibility\n",
    "3.easy to use  etc.\"\"\""
   ]
  },
  {
   "cell_type": "code",
   "execution_count": 18,
   "id": "ee34e71d-6ab2-4b75-9113-e68cf4081088",
   "metadata": {},
   "outputs": [
    {
     "data": {
      "text/plain": [
       "'python involves a private heap that contain all python object \\nand data structures. the management of the private heap is ensured \\ninternally by the python memory manager'"
      ]
     },
     "execution_count": 18,
     "metadata": {},
     "output_type": "execute_result"
    }
   ],
   "source": [
    "\"\"\"QTS.14 \"\"\"\n",
    "\"\"\"python involves a private heap that contain all python object \n",
    "and data structures. the management of the private heap is ensured \n",
    "internally by the python memory manager\"\"\""
   ]
  },
  {
   "cell_type": "code",
   "execution_count": 20,
   "id": "5a35b25a-0196-4110-b733-32aba3360ebc",
   "metadata": {},
   "outputs": [
    {
     "data": {
      "text/plain": [
       "\"QTS.15 \\n1.right clicking this PC and going to the properties\\n2.click on the advanced system setting in menu in the left\\n3.clicking on the environment variable button in the bottom right\\n4.in the system variable section select path variable and edit\\n5.clicking on new and entering python's install directory\""
      ]
     },
     "execution_count": 20,
     "metadata": {},
     "output_type": "execute_result"
    }
   ],
   "source": [
    "\"\"\"QTS.15 \n",
    "1.right clicking this PC and going to the properties\n",
    "2.click on the advanced system setting in menu in the left\n",
    "3.clicking on the environment variable button in the bottom right\n",
    "4.in the system variable section select path variable and edit\n",
    "5.clicking on new and entering python's install directory\"\"\""
   ]
  },
  {
   "cell_type": "code",
   "execution_count": 21,
   "id": "9b7bfcf3-5760-44c9-9833-3275c885999f",
   "metadata": {},
   "outputs": [
    {
     "data": {
      "text/plain": [
       "\"indentation is important to python b'coz it's how you \\ndetermine scope and scope is how python knows what code belongs to what part of the program\""
      ]
     },
     "execution_count": 21,
     "metadata": {},
     "output_type": "execute_result"
    }
   ],
   "source": [
    "\"\"\"QTS.16 \"\"\"\n",
    "\"\"\"indentation is important to python b'coz it's how you \n",
    "determine scope and scope is how python knows what code belongs to what part of the program\"\"\""
   ]
  },
  {
   "cell_type": "code",
   "execution_count": null,
   "id": "4be1e697-a533-4f05-bda0-cf720c7996b8",
   "metadata": {},
   "outputs": [],
   "source": []
  }
 ],
 "metadata": {
  "kernelspec": {
   "display_name": "Python 3 (ipykernel)",
   "language": "python",
   "name": "python3"
  },
  "language_info": {
   "codemirror_mode": {
    "name": "ipython",
    "version": 3
   },
   "file_extension": ".py",
   "mimetype": "text/x-python",
   "name": "python",
   "nbconvert_exporter": "python",
   "pygments_lexer": "ipython3",
   "version": "3.10.8"
  }
 },
 "nbformat": 4,
 "nbformat_minor": 5
}
